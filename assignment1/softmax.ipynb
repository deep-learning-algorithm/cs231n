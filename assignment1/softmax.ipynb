{
 "cells": [
  {
   "cell_type": "markdown",
   "metadata": {
    "tags": [
     "pdf-title"
    ]
   },
   "source": [
    "# Softmax exercise\n",
    "\n",
    "*Complete and hand in this completed worksheet (including its outputs and any supporting code outside of the worksheet) with your assignment submission. For more details see the [assignments page](http://vision.stanford.edu/teaching/cs231n/assignments.html) on the course website.*\n",
    "\n",
    "This exercise is analogous to the SVM exercise. You will:\n",
    "\n",
    "- implement a fully-vectorized **loss function** for the Softmax classifier\n",
    "- implement the fully-vectorized expression for its **analytic gradient**\n",
    "- **check your implementation** with numerical gradient\n",
    "- use a validation set to **tune the learning rate and regularization** strength\n",
    "- **optimize** the loss function with **SGD**\n",
    "- **visualize** the final learned weights\n"
   ]
  },
  {
   "cell_type": "code",
   "execution_count": 1,
   "metadata": {
    "tags": [
     "pdf-ignore"
    ]
   },
   "outputs": [],
   "source": [
    "import random\n",
    "import numpy as np\n",
    "from cs231n.data_utils import load_CIFAR10\n",
    "import matplotlib.pyplot as plt\n",
    "\n",
    "%matplotlib inline\n",
    "plt.rcParams['figure.figsize'] = (10.0, 8.0) # set default size of plots\n",
    "plt.rcParams['image.interpolation'] = 'nearest'\n",
    "plt.rcParams['image.cmap'] = 'gray'\n",
    "\n",
    "# for auto-reloading extenrnal modules\n",
    "# see http://stackoverflow.com/questions/1907993/autoreload-of-modules-in-ipython\n",
    "%load_ext autoreload\n",
    "%autoreload 2"
   ]
  },
  {
   "cell_type": "code",
   "execution_count": 2,
   "metadata": {
    "tags": [
     "pdf-ignore"
    ]
   },
   "outputs": [
    {
     "name": "stdout",
     "output_type": "stream",
     "text": [
      "Train data shape:  (49000, 3073)\n",
      "Train labels shape:  (49000,)\n",
      "Validation data shape:  (1000, 3073)\n",
      "Validation labels shape:  (1000,)\n",
      "Test data shape:  (1000, 3073)\n",
      "Test labels shape:  (1000,)\n",
      "dev data shape:  (500, 3073)\n",
      "dev labels shape:  (500,)\n"
     ]
    }
   ],
   "source": [
    "def get_CIFAR10_data(num_training=49000, num_validation=1000, num_test=1000, num_dev=500):\n",
    "    \"\"\"\n",
    "    Load the CIFAR-10 dataset from disk and perform preprocessing to prepare\n",
    "    it for the linear classifier. These are the same steps as we used for the\n",
    "    SVM, but condensed to a single function.  \n",
    "    \"\"\"\n",
    "    # Load the raw CIFAR-10 data\n",
    "    cifar10_dir = 'cs231n/datasets/cifar-10-batches-py'\n",
    "    \n",
    "    # Cleaning up variables to prevent loading data multiple times (which may cause memory issue)\n",
    "    try:\n",
    "       del X_train, y_train\n",
    "       del X_test, y_test\n",
    "       print('Clear previously loaded data.')\n",
    "    except:\n",
    "       pass\n",
    "\n",
    "    X_train, y_train, X_test, y_test = load_CIFAR10(cifar10_dir)\n",
    "    \n",
    "    # subsample the data\n",
    "    mask = list(range(num_training, num_training + num_validation))\n",
    "    X_val = X_train[mask]\n",
    "    y_val = y_train[mask]\n",
    "    mask = list(range(num_training))\n",
    "    X_train = X_train[mask]\n",
    "    y_train = y_train[mask]\n",
    "    mask = list(range(num_test))\n",
    "    X_test = X_test[mask]\n",
    "    y_test = y_test[mask]\n",
    "    mask = np.random.choice(num_training, num_dev, replace=False)\n",
    "    X_dev = X_train[mask]\n",
    "    y_dev = y_train[mask]\n",
    "    \n",
    "    # Preprocessing: reshape the image data into rows\n",
    "    X_train = np.reshape(X_train, (X_train.shape[0], -1))\n",
    "    X_val = np.reshape(X_val, (X_val.shape[0], -1))\n",
    "    X_test = np.reshape(X_test, (X_test.shape[0], -1))\n",
    "    X_dev = np.reshape(X_dev, (X_dev.shape[0], -1))\n",
    "    \n",
    "    # Normalize the data: subtract the mean image\n",
    "    mean_image = np.mean(X_train, axis = 0)\n",
    "    X_train -= mean_image\n",
    "    X_val -= mean_image\n",
    "    X_test -= mean_image\n",
    "    X_dev -= mean_image\n",
    "    \n",
    "    # add bias dimension and transform into columns\n",
    "    X_train = np.hstack([X_train, np.ones((X_train.shape[0], 1))])\n",
    "    X_val = np.hstack([X_val, np.ones((X_val.shape[0], 1))])\n",
    "    X_test = np.hstack([X_test, np.ones((X_test.shape[0], 1))])\n",
    "    X_dev = np.hstack([X_dev, np.ones((X_dev.shape[0], 1))])\n",
    "    \n",
    "    return X_train, y_train, X_val, y_val, X_test, y_test, X_dev, y_dev\n",
    "\n",
    "\n",
    "# Invoke the above function to get our data.\n",
    "X_train, y_train, X_val, y_val, X_test, y_test, X_dev, y_dev = get_CIFAR10_data()\n",
    "print('Train data shape: ', X_train.shape)\n",
    "print('Train labels shape: ', y_train.shape)\n",
    "print('Validation data shape: ', X_val.shape)\n",
    "print('Validation labels shape: ', y_val.shape)\n",
    "print('Test data shape: ', X_test.shape)\n",
    "print('Test labels shape: ', y_test.shape)\n",
    "print('dev data shape: ', X_dev.shape)\n",
    "print('dev labels shape: ', y_dev.shape)"
   ]
  },
  {
   "cell_type": "markdown",
   "metadata": {},
   "source": [
    "## Softmax Classifier\n",
    "\n",
    "Your code for this section will all be written inside **cs231n/classifiers/softmax.py**. \n"
   ]
  },
  {
   "cell_type": "code",
   "execution_count": 15,
   "metadata": {},
   "outputs": [
    {
     "name": "stdout",
     "output_type": "stream",
     "text": [
      "loss: 2.335965\n",
      "sanity check: 2.302585\n"
     ]
    }
   ],
   "source": [
    "# First implement the naive softmax loss function with nested loops.\n",
    "# Open the file cs231n/classifiers/softmax.py and implement the\n",
    "# softmax_loss_naive function.\n",
    "\n",
    "from cs231n.classifiers.softmax import softmax_loss_naive\n",
    "import time\n",
    "\n",
    "# Generate a random softmax weight matrix and use it to compute the loss.\n",
    "W = np.random.randn(3073, 10) * 0.0001\n",
    "loss, grad = softmax_loss_naive(W, X_dev, y_dev, 0.0)\n",
    "\n",
    "# As a rough sanity check, our loss should be something close to -log(0.1).\n",
    "print('loss: %f' % loss)\n",
    "print('sanity check: %f' % (-np.log(0.1)))"
   ]
  },
  {
   "cell_type": "markdown",
   "metadata": {
    "tags": [
     "pdf-inline"
    ]
   },
   "source": [
    "**Inline Question 1**\n",
    "\n",
    "Why do we expect our loss to be close to -log(0.1)? Explain briefly.**\n",
    "\n",
    "$\\color{blue}{\\textit Your Answer:}$ *Fill this in* \n",
    "\n"
   ]
  },
  {
   "cell_type": "code",
   "execution_count": 19,
   "metadata": {},
   "outputs": [
    {
     "name": "stdout",
     "output_type": "stream",
     "text": [
      "numerical: 0.173706 analytic: 0.173705, relative error: 1.265569e-07\n",
      "numerical: -0.498544 analytic: -0.498544, relative error: 5.883670e-08\n",
      "numerical: -0.662467 analytic: -0.662468, relative error: 9.422651e-08\n",
      "numerical: 0.077660 analytic: 0.077660, relative error: 8.488119e-07\n",
      "numerical: 0.089431 analytic: 0.089431, relative error: 4.575182e-07\n",
      "numerical: 0.001836 analytic: 0.001836, relative error: 5.554808e-06\n",
      "numerical: -0.928722 analytic: -0.928722, relative error: 3.004784e-08\n",
      "numerical: 0.629983 analytic: 0.629983, relative error: 2.270506e-08\n",
      "numerical: 0.757102 analytic: 0.757102, relative error: 4.827577e-08\n",
      "numerical: -0.200478 analytic: -0.200478, relative error: 3.572587e-08\n",
      "numerical: 0.648221 analytic: 0.648301, relative error: 6.129046e-05\n",
      "numerical: 2.453860 analytic: 2.455670, relative error: 3.686648e-04\n",
      "numerical: 1.467141 analytic: 1.466296, relative error: 2.879408e-04\n",
      "numerical: -2.210118 analytic: -2.210865, relative error: 1.690931e-04\n",
      "numerical: -1.492720 analytic: -1.494410, relative error: 5.659525e-04\n",
      "numerical: -2.734910 analytic: -2.728061, relative error: 1.253651e-03\n",
      "numerical: 3.952124 analytic: 3.951576, relative error: 6.935134e-05\n",
      "numerical: 1.111579 analytic: 1.115934, relative error: 1.955065e-03\n",
      "numerical: 2.313673 analytic: 2.313917, relative error: 5.257798e-05\n",
      "numerical: 0.282491 analytic: 0.291207, relative error: 1.519164e-02\n"
     ]
    }
   ],
   "source": [
    "# Complete the implementation of softmax_loss_naive and implement a (naive)\n",
    "# version of the gradient that uses nested loops.\n",
    "loss, grad = softmax_loss_naive(W, X_dev, y_dev, 0.0)\n",
    "\n",
    "# As we did for the SVM, use numeric gradient checking as a debugging tool.\n",
    "# The numeric gradient should be close to the analytic gradient.\n",
    "from cs231n.gradient_check import grad_check_sparse\n",
    "f = lambda w: softmax_loss_naive(w, X_dev, y_dev, 0.0)[0]\n",
    "grad_numerical = grad_check_sparse(f, W, grad, 10)\n",
    "\n",
    "# similar to SVM case, do another gradient check with regularization\n",
    "loss, grad = softmax_loss_naive(W, X_dev, y_dev, 5e1)\n",
    "f = lambda w: softmax_loss_naive(w, X_dev, y_dev, 5e1)[0]\n",
    "grad_numerical = grad_check_sparse(f, W, grad, 10)"
   ]
  },
  {
   "cell_type": "code",
   "execution_count": 20,
   "metadata": {},
   "outputs": [
    {
     "name": "stdout",
     "output_type": "stream",
     "text": [
      "naive loss: 2.335965e+00 computed in 0.010639s\n",
      "vectorized loss: 2.335965e+00 computed in 0.008848s\n",
      "Loss difference: 0.000000\n",
      "Gradient difference: 0.000000\n"
     ]
    }
   ],
   "source": [
    "# Now that we have a naive implementation of the softmax loss function and its gradient,\n",
    "# implement a vectorized version in softmax_loss_vectorized.\n",
    "# The two versions should compute the same results, but the vectorized version should be\n",
    "# much faster.\n",
    "tic = time.time()\n",
    "loss_naive, grad_naive = softmax_loss_naive(W, X_dev, y_dev, 0.000005)\n",
    "toc = time.time()\n",
    "print('naive loss: %e computed in %fs' % (loss_naive, toc - tic))\n",
    "\n",
    "from cs231n.classifiers.softmax import softmax_loss_vectorized\n",
    "tic = time.time()\n",
    "loss_vectorized, grad_vectorized = softmax_loss_vectorized(W, X_dev, y_dev, 0.000005)\n",
    "toc = time.time()\n",
    "print('vectorized loss: %e computed in %fs' % (loss_vectorized, toc - tic))\n",
    "\n",
    "# As we did for the SVM, we use the Frobenius norm to compare the two versions\n",
    "# of the gradient.\n",
    "grad_difference = np.linalg.norm(grad_naive - grad_vectorized, ord='fro')\n",
    "print('Loss difference: %f' % np.abs(loss_naive - loss_vectorized))\n",
    "print('Gradient difference: %f' % grad_difference)"
   ]
  },
  {
   "cell_type": "code",
   "execution_count": 23,
   "metadata": {
    "tags": [
     "code"
    ]
   },
   "outputs": [
    {
     "name": "stdout",
     "output_type": "stream",
     "text": [
      "iteration 0 / 5000: loss 773.892880\n",
      "iteration 100 / 5000: loss 467.971990\n",
      "iteration 200 / 5000: loss 283.630831\n",
      "iteration 300 / 5000: loss 172.205265\n",
      "iteration 400 / 5000: loss 105.117002\n",
      "iteration 500 / 5000: loss 64.380240\n",
      "iteration 600 / 5000: loss 39.779542\n",
      "iteration 700 / 5000: loss 24.811133\n",
      "iteration 800 / 5000: loss 15.849122\n",
      "iteration 900 / 5000: loss 10.426598\n",
      "iteration 1000 / 5000: loss 7.133312\n",
      "iteration 1100 / 5000: loss 5.080694\n",
      "iteration 1200 / 5000: loss 3.876344\n",
      "iteration 1300 / 5000: loss 3.198439\n",
      "iteration 1400 / 5000: loss 2.776057\n",
      "iteration 1500 / 5000: loss 2.554683\n",
      "iteration 1600 / 5000: loss 2.412849\n",
      "iteration 1700 / 5000: loss 2.243239\n",
      "iteration 1800 / 5000: loss 2.195052\n",
      "iteration 1900 / 5000: loss 2.141344\n",
      "iteration 2000 / 5000: loss 2.142057\n",
      "iteration 2100 / 5000: loss 2.064625\n",
      "iteration 2200 / 5000: loss 2.130168\n",
      "iteration 2300 / 5000: loss 2.108790\n",
      "iteration 2400 / 5000: loss 2.215045\n",
      "iteration 2500 / 5000: loss 2.101524\n",
      "iteration 2600 / 5000: loss 2.084359\n",
      "iteration 2700 / 5000: loss 2.116759\n",
      "iteration 2800 / 5000: loss 2.066094\n",
      "iteration 2900 / 5000: loss 2.118791\n",
      "iteration 3000 / 5000: loss 2.127357\n",
      "iteration 3100 / 5000: loss 2.030832\n",
      "iteration 3200 / 5000: loss 2.110146\n",
      "iteration 3300 / 5000: loss 2.090604\n",
      "iteration 3400 / 5000: loss 2.068645\n",
      "iteration 3500 / 5000: loss 2.144348\n",
      "iteration 3600 / 5000: loss 2.114525\n",
      "iteration 3700 / 5000: loss 2.081260\n",
      "iteration 3800 / 5000: loss 2.087713\n",
      "iteration 3900 / 5000: loss 2.071527\n",
      "iteration 4000 / 5000: loss 2.140706\n",
      "iteration 4100 / 5000: loss 2.026023\n",
      "iteration 4200 / 5000: loss 2.139040\n",
      "iteration 4300 / 5000: loss 2.159654\n",
      "iteration 4400 / 5000: loss 2.038366\n",
      "iteration 4500 / 5000: loss 2.120505\n",
      "iteration 4600 / 5000: loss 2.072262\n",
      "iteration 4700 / 5000: loss 2.084925\n",
      "iteration 4800 / 5000: loss 2.083369\n",
      "iteration 4900 / 5000: loss 2.111567\n",
      "iteration 0 / 5000: loss 1553.949691\n",
      "iteration 100 / 5000: loss 569.456356\n",
      "iteration 200 / 5000: loss 209.697527\n",
      "iteration 300 / 5000: loss 78.132764\n",
      "iteration 400 / 5000: loss 30.000524\n",
      "iteration 500 / 5000: loss 12.329791\n",
      "iteration 600 / 5000: loss 5.919166\n",
      "iteration 700 / 5000: loss 3.560473\n",
      "iteration 800 / 5000: loss 2.669230\n",
      "iteration 900 / 5000: loss 2.361140\n",
      "iteration 1000 / 5000: loss 2.163056\n",
      "iteration 1100 / 5000: loss 2.211403\n",
      "iteration 1200 / 5000: loss 2.164427\n",
      "iteration 1300 / 5000: loss 2.227065\n",
      "iteration 1400 / 5000: loss 2.194629\n",
      "iteration 1500 / 5000: loss 2.180136\n",
      "iteration 1600 / 5000: loss 2.153943\n",
      "iteration 1700 / 5000: loss 2.120516\n",
      "iteration 1800 / 5000: loss 2.166748\n",
      "iteration 1900 / 5000: loss 2.119649\n",
      "iteration 2000 / 5000: loss 2.166145\n",
      "iteration 2100 / 5000: loss 2.203122\n",
      "iteration 2200 / 5000: loss 2.230641\n",
      "iteration 2300 / 5000: loss 2.157697\n",
      "iteration 2400 / 5000: loss 2.192787\n",
      "iteration 2500 / 5000: loss 2.165072\n",
      "iteration 2600 / 5000: loss 2.145724\n",
      "iteration 2700 / 5000: loss 2.187175\n",
      "iteration 2800 / 5000: loss 2.145523\n",
      "iteration 2900 / 5000: loss 2.189249\n",
      "iteration 3000 / 5000: loss 2.182981\n",
      "iteration 3100 / 5000: loss 2.156445\n",
      "iteration 3200 / 5000: loss 2.148246\n",
      "iteration 3300 / 5000: loss 2.209958\n",
      "iteration 3400 / 5000: loss 2.133268\n",
      "iteration 3500 / 5000: loss 2.184922\n",
      "iteration 3600 / 5000: loss 2.208637\n",
      "iteration 3700 / 5000: loss 2.137809\n",
      "iteration 3800 / 5000: loss 2.143620\n",
      "iteration 3900 / 5000: loss 2.192663\n",
      "iteration 4000 / 5000: loss 2.163466\n",
      "iteration 4100 / 5000: loss 2.128798\n",
      "iteration 4200 / 5000: loss 2.208787\n",
      "iteration 4300 / 5000: loss 2.177990\n",
      "iteration 4400 / 5000: loss 2.151737\n",
      "iteration 4500 / 5000: loss 2.223936\n",
      "iteration 4600 / 5000: loss 2.183210\n",
      "iteration 4700 / 5000: loss 2.168902\n",
      "iteration 4800 / 5000: loss 2.198109\n",
      "iteration 4900 / 5000: loss 2.199396\n",
      "iteration 0 / 5000: loss 771.012747\n",
      "iteration 100 / 5000: loss 63.438955\n",
      "iteration 200 / 5000: loss 7.026340\n",
      "iteration 300 / 5000: loss 2.490936\n",
      "iteration 400 / 5000: loss 2.201693\n",
      "iteration 500 / 5000: loss 2.127885\n",
      "iteration 600 / 5000: loss 2.135265\n",
      "iteration 700 / 5000: loss 2.071346\n",
      "iteration 800 / 5000: loss 2.147917\n",
      "iteration 900 / 5000: loss 2.114318\n",
      "iteration 1000 / 5000: loss 2.092289\n",
      "iteration 1100 / 5000: loss 2.114423\n",
      "iteration 1200 / 5000: loss 2.183035\n",
      "iteration 1300 / 5000: loss 2.036436\n",
      "iteration 1400 / 5000: loss 2.098614\n",
      "iteration 1500 / 5000: loss 2.084620\n",
      "iteration 1600 / 5000: loss 2.190868\n",
      "iteration 1700 / 5000: loss 2.122857\n",
      "iteration 1800 / 5000: loss 2.155880\n",
      "iteration 1900 / 5000: loss 2.089562\n",
      "iteration 2000 / 5000: loss 2.078762\n",
      "iteration 2100 / 5000: loss 2.121353\n",
      "iteration 2200 / 5000: loss 2.044677\n",
      "iteration 2300 / 5000: loss 2.091567\n",
      "iteration 2400 / 5000: loss 2.115443\n",
      "iteration 2500 / 5000: loss 2.095843\n",
      "iteration 2600 / 5000: loss 2.123108\n",
      "iteration 2700 / 5000: loss 2.117268\n",
      "iteration 2800 / 5000: loss 2.127847\n",
      "iteration 2900 / 5000: loss 2.167485\n",
      "iteration 3000 / 5000: loss 2.138627\n",
      "iteration 3100 / 5000: loss 2.152483\n",
      "iteration 3200 / 5000: loss 2.055406\n",
      "iteration 3300 / 5000: loss 2.053082\n",
      "iteration 3400 / 5000: loss 2.154322\n",
      "iteration 3500 / 5000: loss 2.107734\n",
      "iteration 3600 / 5000: loss 2.124444\n",
      "iteration 3700 / 5000: loss 2.129842\n",
      "iteration 3800 / 5000: loss 2.142043\n",
      "iteration 3900 / 5000: loss 2.054112\n",
      "iteration 4000 / 5000: loss 2.162449\n",
      "iteration 4100 / 5000: loss 2.124585\n",
      "iteration 4200 / 5000: loss 2.097376\n",
      "iteration 4300 / 5000: loss 2.163690\n",
      "iteration 4400 / 5000: loss 2.130332\n",
      "iteration 4500 / 5000: loss 2.108629\n",
      "iteration 4600 / 5000: loss 2.148565\n",
      "iteration 4700 / 5000: loss 2.121989\n",
      "iteration 4800 / 5000: loss 2.197529\n",
      "iteration 4900 / 5000: loss 2.081625\n",
      "iteration 0 / 5000: loss 1553.763311\n",
      "iteration 100 / 5000: loss 11.810217\n",
      "iteration 200 / 5000: loss 2.253591\n",
      "iteration 300 / 5000: loss 2.228734\n",
      "iteration 400 / 5000: loss 2.199708\n",
      "iteration 500 / 5000: loss 2.194335\n",
      "iteration 600 / 5000: loss 2.204594\n",
      "iteration 700 / 5000: loss 2.259118\n",
      "iteration 800 / 5000: loss 2.192027\n",
      "iteration 900 / 5000: loss 2.135555\n",
      "iteration 1000 / 5000: loss 2.208852\n",
      "iteration 1100 / 5000: loss 2.180591\n",
      "iteration 1200 / 5000: loss 2.160557\n",
      "iteration 1300 / 5000: loss 2.144335\n",
      "iteration 1400 / 5000: loss 2.173991\n",
      "iteration 1500 / 5000: loss 2.190065\n",
      "iteration 1600 / 5000: loss 2.122269\n",
      "iteration 1700 / 5000: loss 2.236908\n",
      "iteration 1800 / 5000: loss 2.186670\n",
      "iteration 1900 / 5000: loss 2.193383\n",
      "iteration 2000 / 5000: loss 2.214183\n",
      "iteration 2100 / 5000: loss 2.135100\n",
      "iteration 2200 / 5000: loss 2.198212\n",
      "iteration 2300 / 5000: loss 2.207375\n",
      "iteration 2400 / 5000: loss 2.128271\n",
      "iteration 2500 / 5000: loss 2.127014\n",
      "iteration 2600 / 5000: loss 2.208779\n",
      "iteration 2700 / 5000: loss 2.216030\n",
      "iteration 2800 / 5000: loss 2.146721\n",
      "iteration 2900 / 5000: loss 2.176284\n",
      "iteration 3000 / 5000: loss 2.173732\n",
      "iteration 3100 / 5000: loss 2.227252\n",
      "iteration 3200 / 5000: loss 2.185276\n",
      "iteration 3300 / 5000: loss 2.187692\n",
      "iteration 3400 / 5000: loss 2.188989\n",
      "iteration 3500 / 5000: loss 2.213739\n",
      "iteration 3600 / 5000: loss 2.108836\n",
      "iteration 3700 / 5000: loss 2.189172\n",
      "iteration 3800 / 5000: loss 2.189069\n",
      "iteration 3900 / 5000: loss 2.227356\n",
      "iteration 4000 / 5000: loss 2.165360\n",
      "iteration 4100 / 5000: loss 2.105121\n",
      "iteration 4200 / 5000: loss 2.141134\n",
      "iteration 4300 / 5000: loss 2.164634\n",
      "iteration 4400 / 5000: loss 2.175749\n",
      "iteration 4500 / 5000: loss 2.221873\n",
      "iteration 4600 / 5000: loss 2.148618\n",
      "iteration 4700 / 5000: loss 2.199942\n",
      "iteration 4800 / 5000: loss 2.233890\n",
      "iteration 4900 / 5000: loss 2.176738\n",
      "lr 1.000000e-07 reg 2.500000e+04 train accuracy: 0.352163 val accuracy: 0.367000\n",
      "lr 1.000000e-07 reg 5.000000e+04 train accuracy: 0.328082 val accuracy: 0.337000\n",
      "lr 5.000000e-07 reg 2.500000e+04 train accuracy: 0.334449 val accuracy: 0.357000\n",
      "lr 5.000000e-07 reg 5.000000e+04 train accuracy: 0.314694 val accuracy: 0.325000\n",
      "best validation accuracy achieved during cross-validation: 0.367000\n"
     ]
    }
   ],
   "source": [
    "# Use the validation set to tune hyperparameters (regularization strength and\n",
    "# learning rate). You should experiment with different ranges for the learning\n",
    "# rates and regularization strengths; if you are careful you should be able to\n",
    "# get a classification accuracy of over 0.35 on the validation set.\n",
    "from cs231n.classifiers import Softmax\n",
    "results = {}\n",
    "best_val = -1\n",
    "best_softmax = None\n",
    "learning_rates = [1e-7, 5e-7]\n",
    "regularization_strengths = [2.5e4, 5e4]\n",
    "\n",
    "################################################################################\n",
    "# TODO:                                                                        #\n",
    "# Use the validation set to set the learning rate and regularization strength. #\n",
    "# This should be identical to the validation that you did for the SVM; save    #\n",
    "# the best trained softmax classifer in best_softmax.                          #\n",
    "################################################################################\n",
    "# *****START OF YOUR CODE (DO NOT DELETE/MODIFY THIS LINE)*****\n",
    "\n",
    "for lr in learning_rates:\n",
    "    for reg in regularization_strengths:\n",
    "        softmax = Softmax()\n",
    "        \n",
    "        softmax.train(X_train, y_train, learning_rate=lr, reg=reg, num_iters=5000, batch_size=200, verbose=True)\n",
    "        y_train_pred = softmax.predict(X_train)\n",
    "        y_val_pred = softmax.predict(X_val)\n",
    "        \n",
    "        train_acc = np.mean(y_train_pred == y_train)\n",
    "        val_acc = np.mean(y_val_pred == y_val)\n",
    "        \n",
    "        results[(lr, reg)] = (train_acc, val_acc)\n",
    "        if best_val < val_acc:\n",
    "            best_val = val_acc\n",
    "            best_softmax = softmax\n",
    "\n",
    "# *****END OF YOUR CODE (DO NOT DELETE/MODIFY THIS LINE)*****\n",
    "    \n",
    "# Print out results.\n",
    "for lr, reg in sorted(results):\n",
    "    train_accuracy, val_accuracy = results[(lr, reg)]\n",
    "    print('lr %e reg %e train accuracy: %f val accuracy: %f' % (\n",
    "                lr, reg, train_accuracy, val_accuracy))\n",
    "    \n",
    "print('best validation accuracy achieved during cross-validation: %f' % best_val)"
   ]
  },
  {
   "cell_type": "code",
   "execution_count": 24,
   "metadata": {},
   "outputs": [
    {
     "name": "stdout",
     "output_type": "stream",
     "text": [
      "softmax on raw pixels final test set accuracy: 0.361000\n"
     ]
    }
   ],
   "source": [
    "# evaluate on test set\n",
    "# Evaluate the best softmax on test set\n",
    "y_test_pred = best_softmax.predict(X_test)\n",
    "test_accuracy = np.mean(y_test == y_test_pred)\n",
    "print('softmax on raw pixels final test set accuracy: %f' % (test_accuracy, ))"
   ]
  },
  {
   "cell_type": "markdown",
   "metadata": {
    "tags": [
     "pdf-inline"
    ]
   },
   "source": [
    "**Inline Question 2** - *True or False*\n",
    "\n",
    "Suppose the overall training loss is defined as the sum of the per-datapoint loss over all training examples. It is possible to add a new datapoint to a training set that would leave the SVM loss unchanged, but this is not the case with the Softmax classifier loss.\n",
    "\n",
    "$\\color{blue}{\\textit Your Answer:}$\n",
    "\n",
    "\n",
    "$\\color{blue}{\\textit Your Explanation:}$\n",
    "\n"
   ]
  },
  {
   "cell_type": "code",
   "execution_count": 25,
   "metadata": {},
   "outputs": [
    {
     "data": {
      "image/png": "[encoded data removed]",
      "text/plain": [
       "<Figure size 432x288 with 10 Axes>"
      ]
     },
     "metadata": {
      "needs_background": "light"
     },
     "output_type": "display_data"
    }
   ],
   "source": [
    "# Visualize the learned weights for each class\n",
    "w = best_softmax.W[:-1,:] # strip out the bias\n",
    "w = w.reshape(32, 32, 3, 10)\n",
    "\n",
    "w_min, w_max = np.min(w), np.max(w)\n",
    "\n",
    "classes = ['plane', 'car', 'bird', 'cat', 'deer', 'dog', 'frog', 'horse', 'ship', 'truck']\n",
    "for i in range(10):\n",
    "    plt.subplot(2, 5, i + 1)\n",
    "    \n",
    "    # Rescale the weights to be between 0 and 255\n",
    "    wimg = 255.0 * (w[:, :, :, i].squeeze() - w_min) / (w_max - w_min)\n",
    "    plt.imshow(wimg.astype('uint8'))\n",
    "    plt.axis('off')\n",
    "    plt.title(classes[i])"
   ]
  }
 ],
 "metadata": {
  "kernelspec": {
   "display_name": "Python 3",
   "language": "python",
   "name": "python3"
  },
  "language_info": {
   "codemirror_mode": {
    "name": "ipython",
    "version": 3
   },
   "file_extension": ".py",
   "mimetype": "text/x-python",
   "name": "python",
   "nbconvert_exporter": "python",
   "pygments_lexer": "ipython3",
   "version": "3.7.1"
  }
 },
 "nbformat": 4,
 "nbformat_minor": 1
}
